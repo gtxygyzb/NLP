{
  "cells": [
    {
      "cell_type": "markdown",
      "metadata": {
        "id": "dbzCA8Rxzr8H"
      },
      "source": [
        "# Unigram tokenization"
      ]
    },
    {
      "cell_type": "markdown",
      "metadata": {
        "id": "iTfNWFyczr8K"
      },
      "source": [
        "Install the Transformers, Datasets, and Evaluate libraries to run this notebook."
      ]
    },
    {
      "cell_type": "markdown",
      "source": [
        "采用类似决策树信息熵的定义方式，一开始把所有子串加入vocabulary，然后每次选择使总loss减少得最少的subwork，剔除vocabulary。总loss定义为每个词的最大出现概率，单个词的最大出现概率（最大拆分）可由DP计算，为每个subword的$-log(P)$相加"
      ],
      "metadata": {
        "id": "WivFC3hfLWpy"
      }
    },
    {
      "cell_type": "code",
      "execution_count": null,
      "metadata": {
        "id": "2MhfuYLlzr8K"
      },
      "outputs": [],
      "source": [
        "!pip install datasets evaluate transformers[sentencepiece]"
      ]
    },
    {
      "cell_type": "code",
      "execution_count": 2,
      "metadata": {
        "id": "lMRjREeQzr8L"
      },
      "outputs": [],
      "source": [
        "corpus = [\n",
        "    \"This is the Hugging Face Course.\",\n",
        "    \"This chapter is about tokenization.\",\n",
        "    \"This section shows several tokenizer algorithms.\",\n",
        "    \"Hopefully, you will be able to understand how they are trained and generate tokens.\",\n",
        "]"
      ]
    },
    {
      "cell_type": "code",
      "execution_count": 3,
      "metadata": {
        "id": "0M0o5zrEzr8M",
        "outputId": "03383e42-e3bd-4765-de35-08f074b6e2d2",
        "colab": {
          "base_uri": "https://localhost:8080/",
          "height": 113,
          "referenced_widgets": [
            "23f1004df9284cfca0085cefa87c8ecb",
            "5f988ac8a6744cec9aebe86f084a8b8a",
            "41a55ffb682541968f84b673e95f00ed",
            "71f151ce8a104f97826690837f06508f",
            "07f00a1de4d24a169f003d76eda8144c",
            "b84aa913c4694222ab9557c2c28cc0f6",
            "ee598755b709485cab1fbfbd5e6d2fc5",
            "2c2dfecbbb6f47d194884266bca1b7c9",
            "29df7c44d4c249f8a5c894aa14646921",
            "b186d5b631934e37bb78420cf2b13673",
            "0052e14ac8984e3bb924a8a22d88fb23",
            "45319d39951748d6b9a68db3cdeeba84",
            "fb38404944c542b2a11f55a843bc716b",
            "59063c524d604835907ba83054814698",
            "47319f1271da45ddafee45f7230fc51e",
            "61c351ecb422424590afe595fb48e0b5",
            "066051f59df048d6bea81fc37e5fc707",
            "8a72af089959492fa1596a363416d590",
            "d1d21a9d6f604e24981f283082e744a0",
            "3fcd6575b55a45e78e7bfcafa79cbe64",
            "c9b53bbc30f94a75a41de0a8635165a2",
            "3fedb22ed90645eeb4fdaa4c878549ac",
            "adf7232a76b44465b1c19d7ae2d32f91",
            "008119fbb00040488339362a47d36768",
            "7b3e701f0e1748fdb808fb6a572b598a",
            "f30dd472863e4a63aaa88c2ad1534192",
            "1f3417ca01904787b81ae18187f818fe",
            "371439f3d8c244d2a3a49a6ef98748e8",
            "04255cf6cf5c4480adebdd485444df4c",
            "cabf508c146143a89a5a2cf83d8dd4c3",
            "9ee8eab8c26a46d4ad49880e13c5cdb8",
            "c6984de11c9346cdb180bb0c80f2340d",
            "f2ed2668ba47499fa4d52444c9672021"
          ]
        }
      },
      "outputs": [
        {
          "output_type": "display_data",
          "data": {
            "text/plain": [
              "Downloading (…)lve/main/config.json:   0%|          | 0.00/760 [00:00<?, ?B/s]"
            ],
            "application/vnd.jupyter.widget-view+json": {
              "version_major": 2,
              "version_minor": 0,
              "model_id": "23f1004df9284cfca0085cefa87c8ecb"
            }
          },
          "metadata": {}
        },
        {
          "output_type": "display_data",
          "data": {
            "text/plain": [
              "Downloading (…)ve/main/spiece.model:   0%|          | 0.00/798k [00:00<?, ?B/s]"
            ],
            "application/vnd.jupyter.widget-view+json": {
              "version_major": 2,
              "version_minor": 0,
              "model_id": "45319d39951748d6b9a68db3cdeeba84"
            }
          },
          "metadata": {}
        },
        {
          "output_type": "display_data",
          "data": {
            "text/plain": [
              "Downloading (…)/main/tokenizer.json:   0%|          | 0.00/1.38M [00:00<?, ?B/s]"
            ],
            "application/vnd.jupyter.widget-view+json": {
              "version_major": 2,
              "version_minor": 0,
              "model_id": "adf7232a76b44465b1c19d7ae2d32f91"
            }
          },
          "metadata": {}
        }
      ],
      "source": [
        "from transformers import AutoTokenizer\n",
        "\n",
        "tokenizer = AutoTokenizer.from_pretrained(\"xlnet-base-cased\")"
      ]
    },
    {
      "cell_type": "code",
      "execution_count": 5,
      "metadata": {
        "id": "_k8Kftmfzr8M",
        "outputId": "1895839f-cf2f-463f-864f-eb53b4c7f355",
        "colab": {
          "base_uri": "https://localhost:8080/"
        }
      },
      "outputs": [
        {
          "output_type": "stream",
          "name": "stdout",
          "text": [
            "[('▁This', (0, 4)), ('▁is', (5, 7)), ('▁the', (8, 11)), ('▁Hugging', (12, 19)), ('▁Face', (20, 24)), ('▁Course.', (25, 32))]\n",
            "[('▁This', (0, 4)), ('▁chapter', (5, 12)), ('▁is', (13, 15)), ('▁about', (16, 21)), ('▁tokenization.', (22, 35))]\n",
            "[('▁This', (0, 4)), ('▁section', (5, 12)), ('▁shows', (13, 18)), ('▁several', (19, 26)), ('▁tokenizer', (27, 36)), ('▁algorithms.', (37, 48))]\n",
            "[('▁Hopefully,', (0, 10)), ('▁you', (11, 14)), ('▁will', (15, 19)), ('▁be', (20, 22)), ('▁able', (23, 27)), ('▁to', (28, 30)), ('▁understand', (31, 41)), ('▁how', (42, 45)), ('▁they', (46, 50)), ('▁are', (51, 54)), ('▁trained', (55, 62)), ('▁and', (63, 66)), ('▁generate', (67, 75)), ('▁tokens.', (76, 83))]\n"
          ]
        },
        {
          "output_type": "execute_result",
          "data": {
            "text/plain": [
              "defaultdict(int,\n",
              "            {'▁This': 3,\n",
              "             '▁is': 2,\n",
              "             '▁the': 1,\n",
              "             '▁Hugging': 1,\n",
              "             '▁Face': 1,\n",
              "             '▁Course.': 1,\n",
              "             '▁chapter': 1,\n",
              "             '▁about': 1,\n",
              "             '▁tokenization.': 1,\n",
              "             '▁section': 1,\n",
              "             '▁shows': 1,\n",
              "             '▁several': 1,\n",
              "             '▁tokenizer': 1,\n",
              "             '▁algorithms.': 1,\n",
              "             '▁Hopefully,': 1,\n",
              "             '▁you': 1,\n",
              "             '▁will': 1,\n",
              "             '▁be': 1,\n",
              "             '▁able': 1,\n",
              "             '▁to': 1,\n",
              "             '▁understand': 1,\n",
              "             '▁how': 1,\n",
              "             '▁they': 1,\n",
              "             '▁are': 1,\n",
              "             '▁trained': 1,\n",
              "             '▁and': 1,\n",
              "             '▁generate': 1,\n",
              "             '▁tokens.': 1})"
            ]
          },
          "metadata": {},
          "execution_count": 5
        }
      ],
      "source": [
        "from collections import defaultdict\n",
        "\n",
        "word_freqs = defaultdict(int)\n",
        "for text in corpus:\n",
        "    words_with_offsets = tokenizer.backend_tokenizer.pre_tokenizer.pre_tokenize_str(text)\n",
        "    print(words_with_offsets)\n",
        "    new_words = [word for word, offset in words_with_offsets]\n",
        "    for word in new_words:\n",
        "        word_freqs[word] += 1\n",
        "\n",
        "word_freqs"
      ]
    },
    {
      "cell_type": "code",
      "execution_count": 9,
      "metadata": {
        "id": "i2vmR-S-zr8N",
        "outputId": "93cd6e05-2e1f-4f7e-d479-36e65cfa3552",
        "colab": {
          "base_uri": "https://localhost:8080/"
        }
      },
      "outputs": [
        {
          "output_type": "stream",
          "name": "stdout",
          "text": [
            "[('▁t', 7), ('is', 5), ('er', 5), ('▁a', 5), ('▁to', 4), ('to', 4), ('en', 4), ('▁T', 3), ('▁Th', 3), ('▁Thi', 3)]\n",
            "defaultdict(<class 'int'>, {'▁': 31, 'T': 3, 'h': 9, 'i': 13, 's': 13, 't': 14, 'e': 21, 'H': 2, 'u': 6, 'g': 5, 'n': 11, 'F': 1, 'a': 12, 'c': 3, 'C': 1, 'o': 13, 'r': 9, '.': 4, 'p': 2, 'b': 3, 'k': 3, 'z': 2, 'w': 3, 'v': 1, 'l': 7, 'm': 1, 'f': 1, 'y': 3, ',': 1, 'd': 4})\n"
          ]
        }
      ],
      "source": [
        "char_freqs = defaultdict(int)\n",
        "subwords_freqs = defaultdict(int)\n",
        "for word, freq in word_freqs.items():\n",
        "    for i in range(len(word)):\n",
        "        char_freqs[word[i]] += freq\n",
        "        # Loop through the subwords of length at least 2\n",
        "        for j in range(i + 2, len(word) + 1):\n",
        "            subwords_freqs[word[i:j]] += freq\n",
        "\n",
        "# Sort subwords by frequency\n",
        "sorted_subwords = sorted(subwords_freqs.items(), key=lambda x: x[1], reverse=True)\n",
        "print(sorted_subwords[:10])\n",
        "print(char_freqs)"
      ]
    },
    {
      "cell_type": "code",
      "execution_count": 8,
      "metadata": {
        "id": "DTgH_TyDzr8N",
        "outputId": "d7ed8ab4-a153-48dd-eb01-e2c01dc29a61",
        "colab": {
          "base_uri": "https://localhost:8080/"
        }
      },
      "outputs": [
        {
          "output_type": "stream",
          "name": "stdout",
          "text": [
            "[('▁', 31), ('T', 3), ('h', 9), ('i', 13), ('s', 13), ('t', 14), ('e', 21), ('H', 2), ('u', 6), ('g', 5), ('n', 11), ('F', 1), ('a', 12), ('c', 3), ('C', 1), ('o', 13), ('r', 9), ('.', 4), ('p', 2), ('b', 3), ('k', 3), ('z', 2), ('w', 3), ('v', 1), ('l', 7), ('m', 1), ('f', 1), ('y', 3), (',', 1), ('d', 4), ('▁t', 7), ('is', 5), ('er', 5), ('▁a', 5), ('▁to', 4), ('to', 4), ('en', 4), ('▁T', 3), ('▁Th', 3), ('▁Thi', 3), ('▁This', 3), ('Th', 3), ('Thi', 3), ('This', 3), ('hi', 3), ('his', 3), ('th', 3), ('ou', 3), ('se', 3), ('▁tok', 3), ('▁toke', 3), ('▁token', 3), ('tok', 3), ('toke', 3), ('token', 3), ('ok', 3), ('oke', 3), ('oken', 3), ('ke', 3), ('ken', 3), ('▁s', 3), ('ra', 3), ('nd', 3), ('▁i', 2), ('▁is', 2), ('▁th', 2), ('▁the', 2), ('the', 2), ('he', 2), ('▁H', 2), ('in', 2), ('rs', 2), ('te', 2), ('▁ab', 2), ('ab', 2), ('▁tokeni', 2), ('▁tokeniz', 2), ('tokeni', 2), ('tokeniz', 2), ('okeni', 2), ('okeniz', 2), ('keni', 2), ('keniz', 2), ('eni', 2), ('eniz', 2), ('ni', 2), ('niz', 2), ('iz', 2), ('at', 2), ('ti', 2), ('tio', 2), ('tion', 2), ('io', 2), ('ion', 2), ('on', 2), ('▁se', 2), ('ho', 2), ('how', 2), ('ow', 2), ('era', 2), ('al', 2), ('s.', 2), ('ll', 2), ('an', 2), ('and', 2), ('ne', 2), ('▁Hu', 1), ('▁Hug', 1), ('▁Hugg', 1), ('▁Huggi', 1), ('▁Huggin', 1), ('▁Hugging', 1), ('Hu', 1), ('Hug', 1), ('Hugg', 1), ('Huggi', 1), ('Huggin', 1), ('Hugging', 1), ('ug', 1), ('ugg', 1), ('uggi', 1), ('uggin', 1), ('ugging', 1), ('gg', 1), ('ggi', 1), ('ggin', 1), ('gging', 1), ('gi', 1), ('gin', 1), ('ging', 1), ('ing', 1), ('ng', 1), ('▁F', 1), ('▁Fa', 1), ('▁Fac', 1), ('▁Face', 1), ('Fa', 1), ('Fac', 1), ('Face', 1), ('ac', 1), ('ace', 1), ('ce', 1), ('▁C', 1), ('▁Co', 1), ('▁Cou', 1), ('▁Cour', 1), ('▁Cours', 1), ('▁Course', 1), ('▁Course.', 1), ('Co', 1), ('Cou', 1), ('Cour', 1), ('Cours', 1), ('Course', 1), ('Course.', 1), ('our', 1), ('ours', 1), ('ourse', 1), ('ourse.', 1), ('ur', 1), ('urs', 1), ('urse', 1), ('urse.', 1), ('rse', 1), ('rse.', 1), ('se.', 1), ('e.', 1), ('▁c', 1), ('▁ch', 1), ('▁cha', 1), ('▁chap', 1), ('▁chapt', 1), ('▁chapte', 1), ('▁chapter', 1), ('ch', 1), ('cha', 1), ('chap', 1), ('chapt', 1), ('chapte', 1), ('chapter', 1), ('ha', 1), ('hap', 1), ('hapt', 1), ('hapte', 1), ('hapter', 1), ('ap', 1), ('apt', 1), ('apte', 1), ('apter', 1), ('pt', 1), ('pte', 1), ('pter', 1), ('ter', 1), ('▁abo', 1), ('▁abou', 1), ('▁about', 1), ('abo', 1), ('abou', 1), ('about', 1), ('bo', 1), ('bou', 1), ('bout', 1), ('out', 1), ('ut', 1), ('▁tokeniza', 1), ('▁tokenizat', 1), ('▁tokenizati', 1), ('▁tokenizatio', 1), ('▁tokenization', 1), ('▁tokenization.', 1), ('tokeniza', 1), ('tokenizat', 1), ('tokenizati', 1), ('tokenizatio', 1), ('tokenization', 1), ('tokenization.', 1), ('okeniza', 1), ('okenizat', 1), ('okenizati', 1), ('okenizatio', 1), ('okenization', 1), ('okenization.', 1), ('keniza', 1), ('kenizat', 1), ('kenizati', 1), ('kenizatio', 1), ('kenization', 1), ('kenization.', 1), ('eniza', 1), ('enizat', 1), ('enizati', 1), ('enizatio', 1), ('enization', 1), ('enization.', 1), ('niza', 1), ('nizat', 1), ('nizati', 1), ('nizatio', 1), ('nization', 1), ('nization.', 1), ('iza', 1), ('izat', 1), ('izati', 1), ('izatio', 1), ('ization', 1), ('ization.', 1), ('za', 1), ('zat', 1), ('zati', 1), ('zatio', 1), ('zation', 1), ('zation.', 1), ('ati', 1), ('atio', 1), ('ation', 1), ('ation.', 1), ('tion.', 1), ('ion.', 1), ('on.', 1), ('n.', 1), ('▁sec', 1), ('▁sect', 1), ('▁secti', 1), ('▁sectio', 1), ('▁section', 1), ('sec', 1), ('sect', 1), ('secti', 1), ('sectio', 1), ('section', 1), ('ec', 1), ('ect', 1), ('ecti', 1), ('ectio', 1), ('ection', 1), ('ct', 1), ('cti', 1), ('ctio', 1), ('ction', 1), ('▁sh', 1), ('▁sho', 1), ('▁show', 1), ('▁shows', 1), ('sh', 1), ('sho', 1), ('show', 1), ('shows', 1), ('hows', 1), ('ows', 1), ('ws', 1), ('▁sev', 1), ('▁seve', 1), ('▁sever', 1), ('▁severa', 1), ('▁several', 1), ('sev', 1), ('seve', 1), ('sever', 1), ('severa', 1), ('several', 1)]\n",
            "{'▁': 31, 'T': 3, 'h': 9, 'i': 13, 's': 13, 't': 14, 'e': 21, 'H': 2, 'u': 6, 'g': 5, 'n': 11, 'F': 1, 'a': 12, 'c': 3, 'C': 1, 'o': 13, 'r': 9, '.': 4, 'p': 2, 'b': 3, 'k': 3, 'z': 2, 'w': 3, 'v': 1, 'l': 7, 'm': 1, 'f': 1, 'y': 3, ',': 1, 'd': 4, '▁t': 7, 'is': 5, 'er': 5, '▁a': 5, '▁to': 4, 'to': 4, 'en': 4, '▁T': 3, '▁Th': 3, '▁Thi': 3, '▁This': 3, 'Th': 3, 'Thi': 3, 'This': 3, 'hi': 3, 'his': 3, 'th': 3, 'ou': 3, 'se': 3, '▁tok': 3, '▁toke': 3, '▁token': 3, 'tok': 3, 'toke': 3, 'token': 3, 'ok': 3, 'oke': 3, 'oken': 3, 'ke': 3, 'ken': 3, '▁s': 3, 'ra': 3, 'nd': 3, '▁i': 2, '▁is': 2, '▁th': 2, '▁the': 2, 'the': 2, 'he': 2, '▁H': 2, 'in': 2, 'rs': 2, 'te': 2, '▁ab': 2, 'ab': 2, '▁tokeni': 2, '▁tokeniz': 2, 'tokeni': 2, 'tokeniz': 2, 'okeni': 2, 'okeniz': 2, 'keni': 2, 'keniz': 2, 'eni': 2, 'eniz': 2, 'ni': 2, 'niz': 2, 'iz': 2, 'at': 2, 'ti': 2, 'tio': 2, 'tion': 2, 'io': 2, 'ion': 2, 'on': 2, '▁se': 2, 'ho': 2, 'how': 2, 'ow': 2, 'era': 2, 'al': 2, 's.': 2, 'll': 2, 'an': 2, 'and': 2, 'ne': 2, '▁Hu': 1, '▁Hug': 1, '▁Hugg': 1, '▁Huggi': 1, '▁Huggin': 1, '▁Hugging': 1, 'Hu': 1, 'Hug': 1, 'Hugg': 1, 'Huggi': 1, 'Huggin': 1, 'Hugging': 1, 'ug': 1, 'ugg': 1, 'uggi': 1, 'uggin': 1, 'ugging': 1, 'gg': 1, 'ggi': 1, 'ggin': 1, 'gging': 1, 'gi': 1, 'gin': 1, 'ging': 1, 'ing': 1, 'ng': 1, '▁F': 1, '▁Fa': 1, '▁Fac': 1, '▁Face': 1, 'Fa': 1, 'Fac': 1, 'Face': 1, 'ac': 1, 'ace': 1, 'ce': 1, '▁C': 1, '▁Co': 1, '▁Cou': 1, '▁Cour': 1, '▁Cours': 1, '▁Course': 1, '▁Course.': 1, 'Co': 1, 'Cou': 1, 'Cour': 1, 'Cours': 1, 'Course': 1, 'Course.': 1, 'our': 1, 'ours': 1, 'ourse': 1, 'ourse.': 1, 'ur': 1, 'urs': 1, 'urse': 1, 'urse.': 1, 'rse': 1, 'rse.': 1, 'se.': 1, 'e.': 1, '▁c': 1, '▁ch': 1, '▁cha': 1, '▁chap': 1, '▁chapt': 1, '▁chapte': 1, '▁chapter': 1, 'ch': 1, 'cha': 1, 'chap': 1, 'chapt': 1, 'chapte': 1, 'chapter': 1, 'ha': 1, 'hap': 1, 'hapt': 1, 'hapte': 1, 'hapter': 1, 'ap': 1, 'apt': 1, 'apte': 1, 'apter': 1, 'pt': 1, 'pte': 1, 'pter': 1, 'ter': 1, '▁abo': 1, '▁abou': 1, '▁about': 1, 'abo': 1, 'abou': 1, 'about': 1, 'bo': 1, 'bou': 1, 'bout': 1, 'out': 1, 'ut': 1, '▁tokeniza': 1, '▁tokenizat': 1, '▁tokenizati': 1, '▁tokenizatio': 1, '▁tokenization': 1, '▁tokenization.': 1, 'tokeniza': 1, 'tokenizat': 1, 'tokenizati': 1, 'tokenizatio': 1, 'tokenization': 1, 'tokenization.': 1, 'okeniza': 1, 'okenizat': 1, 'okenizati': 1, 'okenizatio': 1, 'okenization': 1, 'okenization.': 1, 'keniza': 1, 'kenizat': 1, 'kenizati': 1, 'kenizatio': 1, 'kenization': 1, 'kenization.': 1, 'eniza': 1, 'enizat': 1, 'enizati': 1, 'enizatio': 1, 'enization': 1, 'enization.': 1, 'niza': 1, 'nizat': 1, 'nizati': 1, 'nizatio': 1, 'nization': 1, 'nization.': 1, 'iza': 1, 'izat': 1, 'izati': 1, 'izatio': 1, 'ization': 1, 'ization.': 1, 'za': 1, 'zat': 1, 'zati': 1, 'zatio': 1, 'zation': 1, 'zation.': 1, 'ati': 1, 'atio': 1, 'ation': 1, 'ation.': 1, 'tion.': 1, 'ion.': 1, 'on.': 1, 'n.': 1, '▁sec': 1, '▁sect': 1, '▁secti': 1, '▁sectio': 1, '▁section': 1, 'sec': 1, 'sect': 1, 'secti': 1, 'sectio': 1, 'section': 1, 'ec': 1, 'ect': 1, 'ecti': 1, 'ectio': 1, 'ection': 1, 'ct': 1, 'cti': 1, 'ctio': 1, 'ction': 1, '▁sh': 1, '▁sho': 1, '▁show': 1, '▁shows': 1, 'sh': 1, 'sho': 1, 'show': 1, 'shows': 1, 'hows': 1, 'ows': 1, 'ws': 1, '▁sev': 1, '▁seve': 1, '▁sever': 1, '▁severa': 1, '▁several': 1, 'sev': 1, 'seve': 1, 'sever': 1, 'severa': 1, 'several': 1}\n"
          ]
        }
      ],
      "source": [
        "token_freqs = list(char_freqs.items()) + sorted_subwords[: 300 - len(char_freqs)]\n",
        "print(token_freqs)\n",
        "token_freqs = {token: freq for token, freq in token_freqs} #元组拆成字典\n",
        "print(token_freqs)"
      ]
    },
    {
      "cell_type": "code",
      "execution_count": 11,
      "metadata": {
        "id": "FLXwusxXzr8O",
        "outputId": "044f0a03-2961-48b2-b36c-bac88eb4e69a",
        "colab": {
          "base_uri": "https://localhost:8080/"
        }
      },
      "outputs": [
        {
          "output_type": "stream",
          "name": "stdout",
          "text": [
            "594\n",
            "{'▁': 2.952892114877499, 'T': 5.288267030694535, 'h': 4.189654742026425, 'i': 3.821929961901108, 's': 3.821929961901108, 't': 3.7478219897473863, 'e': 3.342356881639222, 'H': 5.6937321388027, 'u': 4.59511985013459, 'g': 4.777441406928545, 'n': 3.9889840465642745, 'F': 6.386879319362645, 'a': 3.9019726695746444, 'c': 5.288267030694535, 'C': 6.386879319362645, 'o': 3.821929961901108, 'r': 4.189654742026425, '.': 5.000584958242754, 'p': 5.6937321388027, 'b': 5.288267030694535, 'k': 5.288267030694535, 'z': 5.6937321388027, 'w': 5.288267030694535, 'v': 6.386879319362645, 'l': 4.440969170307332, 'm': 6.386879319362645, 'f': 6.386879319362645, 'y': 5.288267030694535, ',': 6.386879319362645, 'd': 5.000584958242754, '▁t': 4.440969170307332, 'is': 4.777441406928545, 'er': 4.777441406928545, '▁a': 4.777441406928545, '▁to': 5.000584958242754, 'to': 5.000584958242754, 'en': 5.000584958242754, '▁T': 5.288267030694535, '▁Th': 5.288267030694535, '▁Thi': 5.288267030694535, '▁This': 5.288267030694535, 'Th': 5.288267030694535, 'Thi': 5.288267030694535, 'This': 5.288267030694535, 'hi': 5.288267030694535, 'his': 5.288267030694535, 'th': 5.288267030694535, 'ou': 5.288267030694535, 'se': 5.288267030694535, '▁tok': 5.288267030694535, '▁toke': 5.288267030694535, '▁token': 5.288267030694535, 'tok': 5.288267030694535, 'toke': 5.288267030694535, 'token': 5.288267030694535, 'ok': 5.288267030694535, 'oke': 5.288267030694535, 'oken': 5.288267030694535, 'ke': 5.288267030694535, 'ken': 5.288267030694535, '▁s': 5.288267030694535, 'ra': 5.288267030694535, 'nd': 5.288267030694535, '▁i': 5.6937321388027, '▁is': 5.6937321388027, '▁th': 5.6937321388027, '▁the': 5.6937321388027, 'the': 5.6937321388027, 'he': 5.6937321388027, '▁H': 5.6937321388027, 'in': 5.6937321388027, 'rs': 5.6937321388027, 'te': 5.6937321388027, '▁ab': 5.6937321388027, 'ab': 5.6937321388027, '▁tokeni': 5.6937321388027, '▁tokeniz': 5.6937321388027, 'tokeni': 5.6937321388027, 'tokeniz': 5.6937321388027, 'okeni': 5.6937321388027, 'okeniz': 5.6937321388027, 'keni': 5.6937321388027, 'keniz': 5.6937321388027, 'eni': 5.6937321388027, 'eniz': 5.6937321388027, 'ni': 5.6937321388027, 'niz': 5.6937321388027, 'iz': 5.6937321388027, 'at': 5.6937321388027, 'ti': 5.6937321388027, 'tio': 5.6937321388027, 'tion': 5.6937321388027, 'io': 5.6937321388027, 'ion': 5.6937321388027, 'on': 5.6937321388027, '▁se': 5.6937321388027, 'ho': 5.6937321388027, 'how': 5.6937321388027, 'ow': 5.6937321388027, 'era': 5.6937321388027, 'al': 5.6937321388027, 's.': 5.6937321388027, 'll': 5.6937321388027, 'an': 5.6937321388027, 'and': 5.6937321388027, 'ne': 5.6937321388027, '▁Hu': 6.386879319362645, '▁Hug': 6.386879319362645, '▁Hugg': 6.386879319362645, '▁Huggi': 6.386879319362645, '▁Huggin': 6.386879319362645, '▁Hugging': 6.386879319362645, 'Hu': 6.386879319362645, 'Hug': 6.386879319362645, 'Hugg': 6.386879319362645, 'Huggi': 6.386879319362645, 'Huggin': 6.386879319362645, 'Hugging': 6.386879319362645, 'ug': 6.386879319362645, 'ugg': 6.386879319362645, 'uggi': 6.386879319362645, 'uggin': 6.386879319362645, 'ugging': 6.386879319362645, 'gg': 6.386879319362645, 'ggi': 6.386879319362645, 'ggin': 6.386879319362645, 'gging': 6.386879319362645, 'gi': 6.386879319362645, 'gin': 6.386879319362645, 'ging': 6.386879319362645, 'ing': 6.386879319362645, 'ng': 6.386879319362645, '▁F': 6.386879319362645, '▁Fa': 6.386879319362645, '▁Fac': 6.386879319362645, '▁Face': 6.386879319362645, 'Fa': 6.386879319362645, 'Fac': 6.386879319362645, 'Face': 6.386879319362645, 'ac': 6.386879319362645, 'ace': 6.386879319362645, 'ce': 6.386879319362645, '▁C': 6.386879319362645, '▁Co': 6.386879319362645, '▁Cou': 6.386879319362645, '▁Cour': 6.386879319362645, '▁Cours': 6.386879319362645, '▁Course': 6.386879319362645, '▁Course.': 6.386879319362645, 'Co': 6.386879319362645, 'Cou': 6.386879319362645, 'Cour': 6.386879319362645, 'Cours': 6.386879319362645, 'Course': 6.386879319362645, 'Course.': 6.386879319362645, 'our': 6.386879319362645, 'ours': 6.386879319362645, 'ourse': 6.386879319362645, 'ourse.': 6.386879319362645, 'ur': 6.386879319362645, 'urs': 6.386879319362645, 'urse': 6.386879319362645, 'urse.': 6.386879319362645, 'rse': 6.386879319362645, 'rse.': 6.386879319362645, 'se.': 6.386879319362645, 'e.': 6.386879319362645, '▁c': 6.386879319362645, '▁ch': 6.386879319362645, '▁cha': 6.386879319362645, '▁chap': 6.386879319362645, '▁chapt': 6.386879319362645, '▁chapte': 6.386879319362645, '▁chapter': 6.386879319362645, 'ch': 6.386879319362645, 'cha': 6.386879319362645, 'chap': 6.386879319362645, 'chapt': 6.386879319362645, 'chapte': 6.386879319362645, 'chapter': 6.386879319362645, 'ha': 6.386879319362645, 'hap': 6.386879319362645, 'hapt': 6.386879319362645, 'hapte': 6.386879319362645, 'hapter': 6.386879319362645, 'ap': 6.386879319362645, 'apt': 6.386879319362645, 'apte': 6.386879319362645, 'apter': 6.386879319362645, 'pt': 6.386879319362645, 'pte': 6.386879319362645, 'pter': 6.386879319362645, 'ter': 6.386879319362645, '▁abo': 6.386879319362645, '▁abou': 6.386879319362645, '▁about': 6.386879319362645, 'abo': 6.386879319362645, 'abou': 6.386879319362645, 'about': 6.386879319362645, 'bo': 6.386879319362645, 'bou': 6.386879319362645, 'bout': 6.386879319362645, 'out': 6.386879319362645, 'ut': 6.386879319362645, '▁tokeniza': 6.386879319362645, '▁tokenizat': 6.386879319362645, '▁tokenizati': 6.386879319362645, '▁tokenizatio': 6.386879319362645, '▁tokenization': 6.386879319362645, '▁tokenization.': 6.386879319362645, 'tokeniza': 6.386879319362645, 'tokenizat': 6.386879319362645, 'tokenizati': 6.386879319362645, 'tokenizatio': 6.386879319362645, 'tokenization': 6.386879319362645, 'tokenization.': 6.386879319362645, 'okeniza': 6.386879319362645, 'okenizat': 6.386879319362645, 'okenizati': 6.386879319362645, 'okenizatio': 6.386879319362645, 'okenization': 6.386879319362645, 'okenization.': 6.386879319362645, 'keniza': 6.386879319362645, 'kenizat': 6.386879319362645, 'kenizati': 6.386879319362645, 'kenizatio': 6.386879319362645, 'kenization': 6.386879319362645, 'kenization.': 6.386879319362645, 'eniza': 6.386879319362645, 'enizat': 6.386879319362645, 'enizati': 6.386879319362645, 'enizatio': 6.386879319362645, 'enization': 6.386879319362645, 'enization.': 6.386879319362645, 'niza': 6.386879319362645, 'nizat': 6.386879319362645, 'nizati': 6.386879319362645, 'nizatio': 6.386879319362645, 'nization': 6.386879319362645, 'nization.': 6.386879319362645, 'iza': 6.386879319362645, 'izat': 6.386879319362645, 'izati': 6.386879319362645, 'izatio': 6.386879319362645, 'ization': 6.386879319362645, 'ization.': 6.386879319362645, 'za': 6.386879319362645, 'zat': 6.386879319362645, 'zati': 6.386879319362645, 'zatio': 6.386879319362645, 'zation': 6.386879319362645, 'zation.': 6.386879319362645, 'ati': 6.386879319362645, 'atio': 6.386879319362645, 'ation': 6.386879319362645, 'ation.': 6.386879319362645, 'tion.': 6.386879319362645, 'ion.': 6.386879319362645, 'on.': 6.386879319362645, 'n.': 6.386879319362645, '▁sec': 6.386879319362645, '▁sect': 6.386879319362645, '▁secti': 6.386879319362645, '▁sectio': 6.386879319362645, '▁section': 6.386879319362645, 'sec': 6.386879319362645, 'sect': 6.386879319362645, 'secti': 6.386879319362645, 'sectio': 6.386879319362645, 'section': 6.386879319362645, 'ec': 6.386879319362645, 'ect': 6.386879319362645, 'ecti': 6.386879319362645, 'ectio': 6.386879319362645, 'ection': 6.386879319362645, 'ct': 6.386879319362645, 'cti': 6.386879319362645, 'ctio': 6.386879319362645, 'ction': 6.386879319362645, '▁sh': 6.386879319362645, '▁sho': 6.386879319362645, '▁show': 6.386879319362645, '▁shows': 6.386879319362645, 'sh': 6.386879319362645, 'sho': 6.386879319362645, 'show': 6.386879319362645, 'shows': 6.386879319362645, 'hows': 6.386879319362645, 'ows': 6.386879319362645, 'ws': 6.386879319362645, '▁sev': 6.386879319362645, '▁seve': 6.386879319362645, '▁sever': 6.386879319362645, '▁severa': 6.386879319362645, '▁several': 6.386879319362645, 'sev': 6.386879319362645, 'seve': 6.386879319362645, 'sever': 6.386879319362645, 'severa': 6.386879319362645, 'several': 6.386879319362645}\n"
          ]
        }
      ],
      "source": [
        "from math import log\n",
        "\n",
        "total_sum = sum([freq for token, freq in token_freqs.items()])\n",
        "print(total_sum)\n",
        "model = {token: -log(freq / total_sum) for token, freq in token_freqs.items()}\n",
        "print(model)"
      ]
    },
    {
      "cell_type": "code",
      "execution_count": 13,
      "metadata": {
        "id": "TMSd0kj3zr8O"
      },
      "outputs": [],
      "source": [
        "def encode_word(word, model):\n",
        "    best_segmentations = [{\"start\": 0, \"score\": 1}] + [\n",
        "        {\"start\": None, \"score\": None} for _ in range(len(word))\n",
        "    ]\n",
        "    for start_idx in range(len(word)): #区间DP算法，找到使对数概率和最大的分割\n",
        "        # This should be properly filled by the previous steps of the loop\n",
        "        best_score_at_start = best_segmentations[start_idx][\"score\"]\n",
        "        for end_idx in range(start_idx + 1, len(word) + 1):\n",
        "            token = word[start_idx:end_idx]\n",
        "            if token in model and best_score_at_start is not None:\n",
        "                score = model[token] + best_score_at_start\n",
        "                # If we have found a better segmentation ending at end_idx, we update\n",
        "                if (\n",
        "                    best_segmentations[end_idx][\"score\"] is None\n",
        "                    or best_segmentations[end_idx][\"score\"] > score\n",
        "                ):\n",
        "                    best_segmentations[end_idx] = {\"start\": start_idx, \"score\": score}\n",
        "\n",
        "    segmentation = best_segmentations[-1]\n",
        "    if segmentation[\"score\"] is None:\n",
        "        # We did not find a tokenization of the word -> unknown\n",
        "        return [\"<unk>\"], None\n",
        "\n",
        "    score = segmentation[\"score\"]\n",
        "    start = segmentation[\"start\"]\n",
        "    end = len(word)\n",
        "    tokens = []\n",
        "    while start != 0:\n",
        "        tokens.insert(0, word[start:end])\n",
        "        next_start = best_segmentations[start][\"start\"]\n",
        "        end = start\n",
        "        start = next_start\n",
        "    tokens.insert(0, word[start:end])\n",
        "    return tokens, score"
      ]
    },
    {
      "cell_type": "code",
      "execution_count": 14,
      "metadata": {
        "id": "LMYLjaKhzr8P",
        "outputId": "6d061dee-dce7-4ab5-95a7-335543f6d7d6",
        "colab": {
          "base_uri": "https://localhost:8080/"
        }
      },
      "outputs": [
        {
          "output_type": "stream",
          "name": "stdout",
          "text": [
            "(['H', 'o', 'p', 'e', 'f', 'u', 'll', 'y'], 41.5157494601402)\n",
            "(['This'], 6.288267030694535)\n"
          ]
        }
      ],
      "source": [
        "print(encode_word(\"Hopefully\", model))\n",
        "print(encode_word(\"This\", model))"
      ]
    },
    {
      "cell_type": "code",
      "execution_count": 15,
      "metadata": {
        "id": "FYbWxx8nzr8P"
      },
      "outputs": [],
      "source": [
        "def compute_loss(model):\n",
        "    loss = 0\n",
        "    for word, freq in word_freqs.items():\n",
        "        _, word_loss = encode_word(word, model)\n",
        "        loss += freq * word_loss\n",
        "    return loss"
      ]
    },
    {
      "cell_type": "code",
      "execution_count": 16,
      "metadata": {
        "id": "ovMjWmiEzr8P",
        "outputId": "89da691f-fd8a-4008-8d5e-e567d44f72bc",
        "colab": {
          "base_uri": "https://localhost:8080/"
        }
      },
      "outputs": [
        {
          "output_type": "execute_result",
          "data": {
            "text/plain": [
              "413.10377642940875"
            ]
          },
          "metadata": {},
          "execution_count": 16
        }
      ],
      "source": [
        "compute_loss(model)"
      ]
    },
    {
      "cell_type": "code",
      "execution_count": 17,
      "metadata": {
        "id": "g2QBx6F0zr8Q"
      },
      "outputs": [],
      "source": [
        "import copy\n",
        "\n",
        "\n",
        "def compute_scores(model):\n",
        "    scores = {}\n",
        "    model_loss = compute_loss(model)\n",
        "    for token, score in model.items():\n",
        "        # We always keep tokens of length 1\n",
        "        if len(token) == 1:\n",
        "            continue\n",
        "        model_without_token = copy.deepcopy(model)\n",
        "        _ = model_without_token.pop(token)\n",
        "        scores[token] = compute_loss(model_without_token) - model_loss\n",
        "    return scores"
      ]
    },
    {
      "cell_type": "code",
      "execution_count": 18,
      "metadata": {
        "id": "kqk9YYA6zr8Q",
        "outputId": "31187d6c-f589-47d7-d643-7d667b44aed2",
        "colab": {
          "base_uri": "https://localhost:8080/"
        }
      },
      "outputs": [
        {
          "output_type": "stream",
          "name": "stdout",
          "text": [
            "6.376412403623874\n",
            "0.0\n"
          ]
        }
      ],
      "source": [
        "scores = compute_scores(model)\n",
        "print(scores[\"ll\"])\n",
        "print(scores[\"his\"])"
      ]
    },
    {
      "cell_type": "code",
      "execution_count": 19,
      "metadata": {
        "id": "kmb8b9Rizr8Q"
      },
      "outputs": [],
      "source": [
        "percent_to_remove = 0.1\n",
        "while len(model) > 100:\n",
        "    scores = compute_scores(model)\n",
        "    sorted_scores = sorted(scores.items(), key=lambda x: x[1])\n",
        "    # Remove percent_to_remove tokens with the lowest scores.\n",
        "    for i in range(int(len(model) * percent_to_remove)):\n",
        "        _ = token_freqs.pop(sorted_scores[i][0])\n",
        "\n",
        "    total_sum = sum([freq for token, freq in token_freqs.items()])\n",
        "    model = {token: -log(freq / total_sum) for token, freq in token_freqs.items()}"
      ]
    },
    {
      "cell_type": "code",
      "execution_count": 20,
      "metadata": {
        "id": "qW-KASbgzr8Q",
        "outputId": "31173d6c-230a-4480-adac-247140aca56e",
        "colab": {
          "base_uri": "https://localhost:8080/"
        }
      },
      "outputs": [
        {
          "output_type": "execute_result",
          "data": {
            "text/plain": [
              "['▁This',\n",
              " '▁is',\n",
              " '▁the',\n",
              " '▁Hugging',\n",
              " '▁Face',\n",
              " '▁',\n",
              " 'c',\n",
              " 'ou',\n",
              " 'r',\n",
              " 's',\n",
              " 'e',\n",
              " '.']"
            ]
          },
          "metadata": {},
          "execution_count": 20
        }
      ],
      "source": [
        "def tokenize(text, model):\n",
        "    words_with_offsets = tokenizer.backend_tokenizer.pre_tokenizer.pre_tokenize_str(text)\n",
        "    pre_tokenized_text = [word for word, offset in words_with_offsets]\n",
        "    encoded_words = [encode_word(word, model)[0] for word in pre_tokenized_text]\n",
        "    return sum(encoded_words, [])\n",
        "\n",
        "\n",
        "tokenize(\"This is the Hugging Face course.\", model)"
      ]
    }
  ],
  "metadata": {
    "colab": {
      "name": "Unigram tokenization",
      "provenance": [],
      "gpuType": "T4"
    },
    "language_info": {
      "name": "python"
    },
    "accelerator": "GPU",
    "kernelspec": {
      "name": "python3",
      "display_name": "Python 3"
    },
    "widgets": {
      "application/vnd.jupyter.widget-state+json": {
        "23f1004df9284cfca0085cefa87c8ecb": {
          "model_module": "@jupyter-widgets/controls",
          "model_name": "HBoxModel",
          "model_module_version": "1.5.0",
          "state": {
            "_dom_classes": [],
            "_model_module": "@jupyter-widgets/controls",
            "_model_module_version": "1.5.0",
            "_model_name": "HBoxModel",
            "_view_count": null,
            "_view_module": "@jupyter-widgets/controls",
            "_view_module_version": "1.5.0",
            "_view_name": "HBoxView",
            "box_style": "",
            "children": [
              "IPY_MODEL_5f988ac8a6744cec9aebe86f084a8b8a",
              "IPY_MODEL_41a55ffb682541968f84b673e95f00ed",
              "IPY_MODEL_71f151ce8a104f97826690837f06508f"
            ],
            "layout": "IPY_MODEL_07f00a1de4d24a169f003d76eda8144c"
          }
        },
        "5f988ac8a6744cec9aebe86f084a8b8a": {
          "model_module": "@jupyter-widgets/controls",
          "model_name": "HTMLModel",
          "model_module_version": "1.5.0",
          "state": {
            "_dom_classes": [],
            "_model_module": "@jupyter-widgets/controls",
            "_model_module_version": "1.5.0",
            "_model_name": "HTMLModel",
            "_view_count": null,
            "_view_module": "@jupyter-widgets/controls",
            "_view_module_version": "1.5.0",
            "_view_name": "HTMLView",
            "description": "",
            "description_tooltip": null,
            "layout": "IPY_MODEL_b84aa913c4694222ab9557c2c28cc0f6",
            "placeholder": "​",
            "style": "IPY_MODEL_ee598755b709485cab1fbfbd5e6d2fc5",
            "value": "Downloading (…)lve/main/config.json: 100%"
          }
        },
        "41a55ffb682541968f84b673e95f00ed": {
          "model_module": "@jupyter-widgets/controls",
          "model_name": "FloatProgressModel",
          "model_module_version": "1.5.0",
          "state": {
            "_dom_classes": [],
            "_model_module": "@jupyter-widgets/controls",
            "_model_module_version": "1.5.0",
            "_model_name": "FloatProgressModel",
            "_view_count": null,
            "_view_module": "@jupyter-widgets/controls",
            "_view_module_version": "1.5.0",
            "_view_name": "ProgressView",
            "bar_style": "success",
            "description": "",
            "description_tooltip": null,
            "layout": "IPY_MODEL_2c2dfecbbb6f47d194884266bca1b7c9",
            "max": 760,
            "min": 0,
            "orientation": "horizontal",
            "style": "IPY_MODEL_29df7c44d4c249f8a5c894aa14646921",
            "value": 760
          }
        },
        "71f151ce8a104f97826690837f06508f": {
          "model_module": "@jupyter-widgets/controls",
          "model_name": "HTMLModel",
          "model_module_version": "1.5.0",
          "state": {
            "_dom_classes": [],
            "_model_module": "@jupyter-widgets/controls",
            "_model_module_version": "1.5.0",
            "_model_name": "HTMLModel",
            "_view_count": null,
            "_view_module": "@jupyter-widgets/controls",
            "_view_module_version": "1.5.0",
            "_view_name": "HTMLView",
            "description": "",
            "description_tooltip": null,
            "layout": "IPY_MODEL_b186d5b631934e37bb78420cf2b13673",
            "placeholder": "​",
            "style": "IPY_MODEL_0052e14ac8984e3bb924a8a22d88fb23",
            "value": " 760/760 [00:00&lt;00:00, 34.6kB/s]"
          }
        },
        "07f00a1de4d24a169f003d76eda8144c": {
          "model_module": "@jupyter-widgets/base",
          "model_name": "LayoutModel",
          "model_module_version": "1.2.0",
          "state": {
            "_model_module": "@jupyter-widgets/base",
            "_model_module_version": "1.2.0",
            "_model_name": "LayoutModel",
            "_view_count": null,
            "_view_module": "@jupyter-widgets/base",
            "_view_module_version": "1.2.0",
            "_view_name": "LayoutView",
            "align_content": null,
            "align_items": null,
            "align_self": null,
            "border": null,
            "bottom": null,
            "display": null,
            "flex": null,
            "flex_flow": null,
            "grid_area": null,
            "grid_auto_columns": null,
            "grid_auto_flow": null,
            "grid_auto_rows": null,
            "grid_column": null,
            "grid_gap": null,
            "grid_row": null,
            "grid_template_areas": null,
            "grid_template_columns": null,
            "grid_template_rows": null,
            "height": null,
            "justify_content": null,
            "justify_items": null,
            "left": null,
            "margin": null,
            "max_height": null,
            "max_width": null,
            "min_height": null,
            "min_width": null,
            "object_fit": null,
            "object_position": null,
            "order": null,
            "overflow": null,
            "overflow_x": null,
            "overflow_y": null,
            "padding": null,
            "right": null,
            "top": null,
            "visibility": null,
            "width": null
          }
        },
        "b84aa913c4694222ab9557c2c28cc0f6": {
          "model_module": "@jupyter-widgets/base",
          "model_name": "LayoutModel",
          "model_module_version": "1.2.0",
          "state": {
            "_model_module": "@jupyter-widgets/base",
            "_model_module_version": "1.2.0",
            "_model_name": "LayoutModel",
            "_view_count": null,
            "_view_module": "@jupyter-widgets/base",
            "_view_module_version": "1.2.0",
            "_view_name": "LayoutView",
            "align_content": null,
            "align_items": null,
            "align_self": null,
            "border": null,
            "bottom": null,
            "display": null,
            "flex": null,
            "flex_flow": null,
            "grid_area": null,
            "grid_auto_columns": null,
            "grid_auto_flow": null,
            "grid_auto_rows": null,
            "grid_column": null,
            "grid_gap": null,
            "grid_row": null,
            "grid_template_areas": null,
            "grid_template_columns": null,
            "grid_template_rows": null,
            "height": null,
            "justify_content": null,
            "justify_items": null,
            "left": null,
            "margin": null,
            "max_height": null,
            "max_width": null,
            "min_height": null,
            "min_width": null,
            "object_fit": null,
            "object_position": null,
            "order": null,
            "overflow": null,
            "overflow_x": null,
            "overflow_y": null,
            "padding": null,
            "right": null,
            "top": null,
            "visibility": null,
            "width": null
          }
        },
        "ee598755b709485cab1fbfbd5e6d2fc5": {
          "model_module": "@jupyter-widgets/controls",
          "model_name": "DescriptionStyleModel",
          "model_module_version": "1.5.0",
          "state": {
            "_model_module": "@jupyter-widgets/controls",
            "_model_module_version": "1.5.0",
            "_model_name": "DescriptionStyleModel",
            "_view_count": null,
            "_view_module": "@jupyter-widgets/base",
            "_view_module_version": "1.2.0",
            "_view_name": "StyleView",
            "description_width": ""
          }
        },
        "2c2dfecbbb6f47d194884266bca1b7c9": {
          "model_module": "@jupyter-widgets/base",
          "model_name": "LayoutModel",
          "model_module_version": "1.2.0",
          "state": {
            "_model_module": "@jupyter-widgets/base",
            "_model_module_version": "1.2.0",
            "_model_name": "LayoutModel",
            "_view_count": null,
            "_view_module": "@jupyter-widgets/base",
            "_view_module_version": "1.2.0",
            "_view_name": "LayoutView",
            "align_content": null,
            "align_items": null,
            "align_self": null,
            "border": null,
            "bottom": null,
            "display": null,
            "flex": null,
            "flex_flow": null,
            "grid_area": null,
            "grid_auto_columns": null,
            "grid_auto_flow": null,
            "grid_auto_rows": null,
            "grid_column": null,
            "grid_gap": null,
            "grid_row": null,
            "grid_template_areas": null,
            "grid_template_columns": null,
            "grid_template_rows": null,
            "height": null,
            "justify_content": null,
            "justify_items": null,
            "left": null,
            "margin": null,
            "max_height": null,
            "max_width": null,
            "min_height": null,
            "min_width": null,
            "object_fit": null,
            "object_position": null,
            "order": null,
            "overflow": null,
            "overflow_x": null,
            "overflow_y": null,
            "padding": null,
            "right": null,
            "top": null,
            "visibility": null,
            "width": null
          }
        },
        "29df7c44d4c249f8a5c894aa14646921": {
          "model_module": "@jupyter-widgets/controls",
          "model_name": "ProgressStyleModel",
          "model_module_version": "1.5.0",
          "state": {
            "_model_module": "@jupyter-widgets/controls",
            "_model_module_version": "1.5.0",
            "_model_name": "ProgressStyleModel",
            "_view_count": null,
            "_view_module": "@jupyter-widgets/base",
            "_view_module_version": "1.2.0",
            "_view_name": "StyleView",
            "bar_color": null,
            "description_width": ""
          }
        },
        "b186d5b631934e37bb78420cf2b13673": {
          "model_module": "@jupyter-widgets/base",
          "model_name": "LayoutModel",
          "model_module_version": "1.2.0",
          "state": {
            "_model_module": "@jupyter-widgets/base",
            "_model_module_version": "1.2.0",
            "_model_name": "LayoutModel",
            "_view_count": null,
            "_view_module": "@jupyter-widgets/base",
            "_view_module_version": "1.2.0",
            "_view_name": "LayoutView",
            "align_content": null,
            "align_items": null,
            "align_self": null,
            "border": null,
            "bottom": null,
            "display": null,
            "flex": null,
            "flex_flow": null,
            "grid_area": null,
            "grid_auto_columns": null,
            "grid_auto_flow": null,
            "grid_auto_rows": null,
            "grid_column": null,
            "grid_gap": null,
            "grid_row": null,
            "grid_template_areas": null,
            "grid_template_columns": null,
            "grid_template_rows": null,
            "height": null,
            "justify_content": null,
            "justify_items": null,
            "left": null,
            "margin": null,
            "max_height": null,
            "max_width": null,
            "min_height": null,
            "min_width": null,
            "object_fit": null,
            "object_position": null,
            "order": null,
            "overflow": null,
            "overflow_x": null,
            "overflow_y": null,
            "padding": null,
            "right": null,
            "top": null,
            "visibility": null,
            "width": null
          }
        },
        "0052e14ac8984e3bb924a8a22d88fb23": {
          "model_module": "@jupyter-widgets/controls",
          "model_name": "DescriptionStyleModel",
          "model_module_version": "1.5.0",
          "state": {
            "_model_module": "@jupyter-widgets/controls",
            "_model_module_version": "1.5.0",
            "_model_name": "DescriptionStyleModel",
            "_view_count": null,
            "_view_module": "@jupyter-widgets/base",
            "_view_module_version": "1.2.0",
            "_view_name": "StyleView",
            "description_width": ""
          }
        },
        "45319d39951748d6b9a68db3cdeeba84": {
          "model_module": "@jupyter-widgets/controls",
          "model_name": "HBoxModel",
          "model_module_version": "1.5.0",
          "state": {
            "_dom_classes": [],
            "_model_module": "@jupyter-widgets/controls",
            "_model_module_version": "1.5.0",
            "_model_name": "HBoxModel",
            "_view_count": null,
            "_view_module": "@jupyter-widgets/controls",
            "_view_module_version": "1.5.0",
            "_view_name": "HBoxView",
            "box_style": "",
            "children": [
              "IPY_MODEL_fb38404944c542b2a11f55a843bc716b",
              "IPY_MODEL_59063c524d604835907ba83054814698",
              "IPY_MODEL_47319f1271da45ddafee45f7230fc51e"
            ],
            "layout": "IPY_MODEL_61c351ecb422424590afe595fb48e0b5"
          }
        },
        "fb38404944c542b2a11f55a843bc716b": {
          "model_module": "@jupyter-widgets/controls",
          "model_name": "HTMLModel",
          "model_module_version": "1.5.0",
          "state": {
            "_dom_classes": [],
            "_model_module": "@jupyter-widgets/controls",
            "_model_module_version": "1.5.0",
            "_model_name": "HTMLModel",
            "_view_count": null,
            "_view_module": "@jupyter-widgets/controls",
            "_view_module_version": "1.5.0",
            "_view_name": "HTMLView",
            "description": "",
            "description_tooltip": null,
            "layout": "IPY_MODEL_066051f59df048d6bea81fc37e5fc707",
            "placeholder": "​",
            "style": "IPY_MODEL_8a72af089959492fa1596a363416d590",
            "value": "Downloading (…)ve/main/spiece.model: 100%"
          }
        },
        "59063c524d604835907ba83054814698": {
          "model_module": "@jupyter-widgets/controls",
          "model_name": "FloatProgressModel",
          "model_module_version": "1.5.0",
          "state": {
            "_dom_classes": [],
            "_model_module": "@jupyter-widgets/controls",
            "_model_module_version": "1.5.0",
            "_model_name": "FloatProgressModel",
            "_view_count": null,
            "_view_module": "@jupyter-widgets/controls",
            "_view_module_version": "1.5.0",
            "_view_name": "ProgressView",
            "bar_style": "success",
            "description": "",
            "description_tooltip": null,
            "layout": "IPY_MODEL_d1d21a9d6f604e24981f283082e744a0",
            "max": 798011,
            "min": 0,
            "orientation": "horizontal",
            "style": "IPY_MODEL_3fcd6575b55a45e78e7bfcafa79cbe64",
            "value": 798011
          }
        },
        "47319f1271da45ddafee45f7230fc51e": {
          "model_module": "@jupyter-widgets/controls",
          "model_name": "HTMLModel",
          "model_module_version": "1.5.0",
          "state": {
            "_dom_classes": [],
            "_model_module": "@jupyter-widgets/controls",
            "_model_module_version": "1.5.0",
            "_model_name": "HTMLModel",
            "_view_count": null,
            "_view_module": "@jupyter-widgets/controls",
            "_view_module_version": "1.5.0",
            "_view_name": "HTMLView",
            "description": "",
            "description_tooltip": null,
            "layout": "IPY_MODEL_c9b53bbc30f94a75a41de0a8635165a2",
            "placeholder": "​",
            "style": "IPY_MODEL_3fedb22ed90645eeb4fdaa4c878549ac",
            "value": " 798k/798k [00:00&lt;00:00, 9.83MB/s]"
          }
        },
        "61c351ecb422424590afe595fb48e0b5": {
          "model_module": "@jupyter-widgets/base",
          "model_name": "LayoutModel",
          "model_module_version": "1.2.0",
          "state": {
            "_model_module": "@jupyter-widgets/base",
            "_model_module_version": "1.2.0",
            "_model_name": "LayoutModel",
            "_view_count": null,
            "_view_module": "@jupyter-widgets/base",
            "_view_module_version": "1.2.0",
            "_view_name": "LayoutView",
            "align_content": null,
            "align_items": null,
            "align_self": null,
            "border": null,
            "bottom": null,
            "display": null,
            "flex": null,
            "flex_flow": null,
            "grid_area": null,
            "grid_auto_columns": null,
            "grid_auto_flow": null,
            "grid_auto_rows": null,
            "grid_column": null,
            "grid_gap": null,
            "grid_row": null,
            "grid_template_areas": null,
            "grid_template_columns": null,
            "grid_template_rows": null,
            "height": null,
            "justify_content": null,
            "justify_items": null,
            "left": null,
            "margin": null,
            "max_height": null,
            "max_width": null,
            "min_height": null,
            "min_width": null,
            "object_fit": null,
            "object_position": null,
            "order": null,
            "overflow": null,
            "overflow_x": null,
            "overflow_y": null,
            "padding": null,
            "right": null,
            "top": null,
            "visibility": null,
            "width": null
          }
        },
        "066051f59df048d6bea81fc37e5fc707": {
          "model_module": "@jupyter-widgets/base",
          "model_name": "LayoutModel",
          "model_module_version": "1.2.0",
          "state": {
            "_model_module": "@jupyter-widgets/base",
            "_model_module_version": "1.2.0",
            "_model_name": "LayoutModel",
            "_view_count": null,
            "_view_module": "@jupyter-widgets/base",
            "_view_module_version": "1.2.0",
            "_view_name": "LayoutView",
            "align_content": null,
            "align_items": null,
            "align_self": null,
            "border": null,
            "bottom": null,
            "display": null,
            "flex": null,
            "flex_flow": null,
            "grid_area": null,
            "grid_auto_columns": null,
            "grid_auto_flow": null,
            "grid_auto_rows": null,
            "grid_column": null,
            "grid_gap": null,
            "grid_row": null,
            "grid_template_areas": null,
            "grid_template_columns": null,
            "grid_template_rows": null,
            "height": null,
            "justify_content": null,
            "justify_items": null,
            "left": null,
            "margin": null,
            "max_height": null,
            "max_width": null,
            "min_height": null,
            "min_width": null,
            "object_fit": null,
            "object_position": null,
            "order": null,
            "overflow": null,
            "overflow_x": null,
            "overflow_y": null,
            "padding": null,
            "right": null,
            "top": null,
            "visibility": null,
            "width": null
          }
        },
        "8a72af089959492fa1596a363416d590": {
          "model_module": "@jupyter-widgets/controls",
          "model_name": "DescriptionStyleModel",
          "model_module_version": "1.5.0",
          "state": {
            "_model_module": "@jupyter-widgets/controls",
            "_model_module_version": "1.5.0",
            "_model_name": "DescriptionStyleModel",
            "_view_count": null,
            "_view_module": "@jupyter-widgets/base",
            "_view_module_version": "1.2.0",
            "_view_name": "StyleView",
            "description_width": ""
          }
        },
        "d1d21a9d6f604e24981f283082e744a0": {
          "model_module": "@jupyter-widgets/base",
          "model_name": "LayoutModel",
          "model_module_version": "1.2.0",
          "state": {
            "_model_module": "@jupyter-widgets/base",
            "_model_module_version": "1.2.0",
            "_model_name": "LayoutModel",
            "_view_count": null,
            "_view_module": "@jupyter-widgets/base",
            "_view_module_version": "1.2.0",
            "_view_name": "LayoutView",
            "align_content": null,
            "align_items": null,
            "align_self": null,
            "border": null,
            "bottom": null,
            "display": null,
            "flex": null,
            "flex_flow": null,
            "grid_area": null,
            "grid_auto_columns": null,
            "grid_auto_flow": null,
            "grid_auto_rows": null,
            "grid_column": null,
            "grid_gap": null,
            "grid_row": null,
            "grid_template_areas": null,
            "grid_template_columns": null,
            "grid_template_rows": null,
            "height": null,
            "justify_content": null,
            "justify_items": null,
            "left": null,
            "margin": null,
            "max_height": null,
            "max_width": null,
            "min_height": null,
            "min_width": null,
            "object_fit": null,
            "object_position": null,
            "order": null,
            "overflow": null,
            "overflow_x": null,
            "overflow_y": null,
            "padding": null,
            "right": null,
            "top": null,
            "visibility": null,
            "width": null
          }
        },
        "3fcd6575b55a45e78e7bfcafa79cbe64": {
          "model_module": "@jupyter-widgets/controls",
          "model_name": "ProgressStyleModel",
          "model_module_version": "1.5.0",
          "state": {
            "_model_module": "@jupyter-widgets/controls",
            "_model_module_version": "1.5.0",
            "_model_name": "ProgressStyleModel",
            "_view_count": null,
            "_view_module": "@jupyter-widgets/base",
            "_view_module_version": "1.2.0",
            "_view_name": "StyleView",
            "bar_color": null,
            "description_width": ""
          }
        },
        "c9b53bbc30f94a75a41de0a8635165a2": {
          "model_module": "@jupyter-widgets/base",
          "model_name": "LayoutModel",
          "model_module_version": "1.2.0",
          "state": {
            "_model_module": "@jupyter-widgets/base",
            "_model_module_version": "1.2.0",
            "_model_name": "LayoutModel",
            "_view_count": null,
            "_view_module": "@jupyter-widgets/base",
            "_view_module_version": "1.2.0",
            "_view_name": "LayoutView",
            "align_content": null,
            "align_items": null,
            "align_self": null,
            "border": null,
            "bottom": null,
            "display": null,
            "flex": null,
            "flex_flow": null,
            "grid_area": null,
            "grid_auto_columns": null,
            "grid_auto_flow": null,
            "grid_auto_rows": null,
            "grid_column": null,
            "grid_gap": null,
            "grid_row": null,
            "grid_template_areas": null,
            "grid_template_columns": null,
            "grid_template_rows": null,
            "height": null,
            "justify_content": null,
            "justify_items": null,
            "left": null,
            "margin": null,
            "max_height": null,
            "max_width": null,
            "min_height": null,
            "min_width": null,
            "object_fit": null,
            "object_position": null,
            "order": null,
            "overflow": null,
            "overflow_x": null,
            "overflow_y": null,
            "padding": null,
            "right": null,
            "top": null,
            "visibility": null,
            "width": null
          }
        },
        "3fedb22ed90645eeb4fdaa4c878549ac": {
          "model_module": "@jupyter-widgets/controls",
          "model_name": "DescriptionStyleModel",
          "model_module_version": "1.5.0",
          "state": {
            "_model_module": "@jupyter-widgets/controls",
            "_model_module_version": "1.5.0",
            "_model_name": "DescriptionStyleModel",
            "_view_count": null,
            "_view_module": "@jupyter-widgets/base",
            "_view_module_version": "1.2.0",
            "_view_name": "StyleView",
            "description_width": ""
          }
        },
        "adf7232a76b44465b1c19d7ae2d32f91": {
          "model_module": "@jupyter-widgets/controls",
          "model_name": "HBoxModel",
          "model_module_version": "1.5.0",
          "state": {
            "_dom_classes": [],
            "_model_module": "@jupyter-widgets/controls",
            "_model_module_version": "1.5.0",
            "_model_name": "HBoxModel",
            "_view_count": null,
            "_view_module": "@jupyter-widgets/controls",
            "_view_module_version": "1.5.0",
            "_view_name": "HBoxView",
            "box_style": "",
            "children": [
              "IPY_MODEL_008119fbb00040488339362a47d36768",
              "IPY_MODEL_7b3e701f0e1748fdb808fb6a572b598a",
              "IPY_MODEL_f30dd472863e4a63aaa88c2ad1534192"
            ],
            "layout": "IPY_MODEL_1f3417ca01904787b81ae18187f818fe"
          }
        },
        "008119fbb00040488339362a47d36768": {
          "model_module": "@jupyter-widgets/controls",
          "model_name": "HTMLModel",
          "model_module_version": "1.5.0",
          "state": {
            "_dom_classes": [],
            "_model_module": "@jupyter-widgets/controls",
            "_model_module_version": "1.5.0",
            "_model_name": "HTMLModel",
            "_view_count": null,
            "_view_module": "@jupyter-widgets/controls",
            "_view_module_version": "1.5.0",
            "_view_name": "HTMLView",
            "description": "",
            "description_tooltip": null,
            "layout": "IPY_MODEL_371439f3d8c244d2a3a49a6ef98748e8",
            "placeholder": "​",
            "style": "IPY_MODEL_04255cf6cf5c4480adebdd485444df4c",
            "value": "Downloading (…)/main/tokenizer.json: 100%"
          }
        },
        "7b3e701f0e1748fdb808fb6a572b598a": {
          "model_module": "@jupyter-widgets/controls",
          "model_name": "FloatProgressModel",
          "model_module_version": "1.5.0",
          "state": {
            "_dom_classes": [],
            "_model_module": "@jupyter-widgets/controls",
            "_model_module_version": "1.5.0",
            "_model_name": "FloatProgressModel",
            "_view_count": null,
            "_view_module": "@jupyter-widgets/controls",
            "_view_module_version": "1.5.0",
            "_view_name": "ProgressView",
            "bar_style": "success",
            "description": "",
            "description_tooltip": null,
            "layout": "IPY_MODEL_cabf508c146143a89a5a2cf83d8dd4c3",
            "max": 1382015,
            "min": 0,
            "orientation": "horizontal",
            "style": "IPY_MODEL_9ee8eab8c26a46d4ad49880e13c5cdb8",
            "value": 1382015
          }
        },
        "f30dd472863e4a63aaa88c2ad1534192": {
          "model_module": "@jupyter-widgets/controls",
          "model_name": "HTMLModel",
          "model_module_version": "1.5.0",
          "state": {
            "_dom_classes": [],
            "_model_module": "@jupyter-widgets/controls",
            "_model_module_version": "1.5.0",
            "_model_name": "HTMLModel",
            "_view_count": null,
            "_view_module": "@jupyter-widgets/controls",
            "_view_module_version": "1.5.0",
            "_view_name": "HTMLView",
            "description": "",
            "description_tooltip": null,
            "layout": "IPY_MODEL_c6984de11c9346cdb180bb0c80f2340d",
            "placeholder": "​",
            "style": "IPY_MODEL_f2ed2668ba47499fa4d52444c9672021",
            "value": " 1.38M/1.38M [00:00&lt;00:00, 4.07MB/s]"
          }
        },
        "1f3417ca01904787b81ae18187f818fe": {
          "model_module": "@jupyter-widgets/base",
          "model_name": "LayoutModel",
          "model_module_version": "1.2.0",
          "state": {
            "_model_module": "@jupyter-widgets/base",
            "_model_module_version": "1.2.0",
            "_model_name": "LayoutModel",
            "_view_count": null,
            "_view_module": "@jupyter-widgets/base",
            "_view_module_version": "1.2.0",
            "_view_name": "LayoutView",
            "align_content": null,
            "align_items": null,
            "align_self": null,
            "border": null,
            "bottom": null,
            "display": null,
            "flex": null,
            "flex_flow": null,
            "grid_area": null,
            "grid_auto_columns": null,
            "grid_auto_flow": null,
            "grid_auto_rows": null,
            "grid_column": null,
            "grid_gap": null,
            "grid_row": null,
            "grid_template_areas": null,
            "grid_template_columns": null,
            "grid_template_rows": null,
            "height": null,
            "justify_content": null,
            "justify_items": null,
            "left": null,
            "margin": null,
            "max_height": null,
            "max_width": null,
            "min_height": null,
            "min_width": null,
            "object_fit": null,
            "object_position": null,
            "order": null,
            "overflow": null,
            "overflow_x": null,
            "overflow_y": null,
            "padding": null,
            "right": null,
            "top": null,
            "visibility": null,
            "width": null
          }
        },
        "371439f3d8c244d2a3a49a6ef98748e8": {
          "model_module": "@jupyter-widgets/base",
          "model_name": "LayoutModel",
          "model_module_version": "1.2.0",
          "state": {
            "_model_module": "@jupyter-widgets/base",
            "_model_module_version": "1.2.0",
            "_model_name": "LayoutModel",
            "_view_count": null,
            "_view_module": "@jupyter-widgets/base",
            "_view_module_version": "1.2.0",
            "_view_name": "LayoutView",
            "align_content": null,
            "align_items": null,
            "align_self": null,
            "border": null,
            "bottom": null,
            "display": null,
            "flex": null,
            "flex_flow": null,
            "grid_area": null,
            "grid_auto_columns": null,
            "grid_auto_flow": null,
            "grid_auto_rows": null,
            "grid_column": null,
            "grid_gap": null,
            "grid_row": null,
            "grid_template_areas": null,
            "grid_template_columns": null,
            "grid_template_rows": null,
            "height": null,
            "justify_content": null,
            "justify_items": null,
            "left": null,
            "margin": null,
            "max_height": null,
            "max_width": null,
            "min_height": null,
            "min_width": null,
            "object_fit": null,
            "object_position": null,
            "order": null,
            "overflow": null,
            "overflow_x": null,
            "overflow_y": null,
            "padding": null,
            "right": null,
            "top": null,
            "visibility": null,
            "width": null
          }
        },
        "04255cf6cf5c4480adebdd485444df4c": {
          "model_module": "@jupyter-widgets/controls",
          "model_name": "DescriptionStyleModel",
          "model_module_version": "1.5.0",
          "state": {
            "_model_module": "@jupyter-widgets/controls",
            "_model_module_version": "1.5.0",
            "_model_name": "DescriptionStyleModel",
            "_view_count": null,
            "_view_module": "@jupyter-widgets/base",
            "_view_module_version": "1.2.0",
            "_view_name": "StyleView",
            "description_width": ""
          }
        },
        "cabf508c146143a89a5a2cf83d8dd4c3": {
          "model_module": "@jupyter-widgets/base",
          "model_name": "LayoutModel",
          "model_module_version": "1.2.0",
          "state": {
            "_model_module": "@jupyter-widgets/base",
            "_model_module_version": "1.2.0",
            "_model_name": "LayoutModel",
            "_view_count": null,
            "_view_module": "@jupyter-widgets/base",
            "_view_module_version": "1.2.0",
            "_view_name": "LayoutView",
            "align_content": null,
            "align_items": null,
            "align_self": null,
            "border": null,
            "bottom": null,
            "display": null,
            "flex": null,
            "flex_flow": null,
            "grid_area": null,
            "grid_auto_columns": null,
            "grid_auto_flow": null,
            "grid_auto_rows": null,
            "grid_column": null,
            "grid_gap": null,
            "grid_row": null,
            "grid_template_areas": null,
            "grid_template_columns": null,
            "grid_template_rows": null,
            "height": null,
            "justify_content": null,
            "justify_items": null,
            "left": null,
            "margin": null,
            "max_height": null,
            "max_width": null,
            "min_height": null,
            "min_width": null,
            "object_fit": null,
            "object_position": null,
            "order": null,
            "overflow": null,
            "overflow_x": null,
            "overflow_y": null,
            "padding": null,
            "right": null,
            "top": null,
            "visibility": null,
            "width": null
          }
        },
        "9ee8eab8c26a46d4ad49880e13c5cdb8": {
          "model_module": "@jupyter-widgets/controls",
          "model_name": "ProgressStyleModel",
          "model_module_version": "1.5.0",
          "state": {
            "_model_module": "@jupyter-widgets/controls",
            "_model_module_version": "1.5.0",
            "_model_name": "ProgressStyleModel",
            "_view_count": null,
            "_view_module": "@jupyter-widgets/base",
            "_view_module_version": "1.2.0",
            "_view_name": "StyleView",
            "bar_color": null,
            "description_width": ""
          }
        },
        "c6984de11c9346cdb180bb0c80f2340d": {
          "model_module": "@jupyter-widgets/base",
          "model_name": "LayoutModel",
          "model_module_version": "1.2.0",
          "state": {
            "_model_module": "@jupyter-widgets/base",
            "_model_module_version": "1.2.0",
            "_model_name": "LayoutModel",
            "_view_count": null,
            "_view_module": "@jupyter-widgets/base",
            "_view_module_version": "1.2.0",
            "_view_name": "LayoutView",
            "align_content": null,
            "align_items": null,
            "align_self": null,
            "border": null,
            "bottom": null,
            "display": null,
            "flex": null,
            "flex_flow": null,
            "grid_area": null,
            "grid_auto_columns": null,
            "grid_auto_flow": null,
            "grid_auto_rows": null,
            "grid_column": null,
            "grid_gap": null,
            "grid_row": null,
            "grid_template_areas": null,
            "grid_template_columns": null,
            "grid_template_rows": null,
            "height": null,
            "justify_content": null,
            "justify_items": null,
            "left": null,
            "margin": null,
            "max_height": null,
            "max_width": null,
            "min_height": null,
            "min_width": null,
            "object_fit": null,
            "object_position": null,
            "order": null,
            "overflow": null,
            "overflow_x": null,
            "overflow_y": null,
            "padding": null,
            "right": null,
            "top": null,
            "visibility": null,
            "width": null
          }
        },
        "f2ed2668ba47499fa4d52444c9672021": {
          "model_module": "@jupyter-widgets/controls",
          "model_name": "DescriptionStyleModel",
          "model_module_version": "1.5.0",
          "state": {
            "_model_module": "@jupyter-widgets/controls",
            "_model_module_version": "1.5.0",
            "_model_name": "DescriptionStyleModel",
            "_view_count": null,
            "_view_module": "@jupyter-widgets/base",
            "_view_module_version": "1.2.0",
            "_view_name": "StyleView",
            "description_width": ""
          }
        }
      }
    }
  },
  "nbformat": 4,
  "nbformat_minor": 0
}